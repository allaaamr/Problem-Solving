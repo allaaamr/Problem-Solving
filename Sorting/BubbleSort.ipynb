{
 "cells": [
  {
   "cell_type": "markdown",
   "metadata": {},
   "source": [
    "Bubble Sort is the simplest sorting algorithm that works by repeatedly swapping the adjacent elements if they are in the wrong order. This algorithm is not suitable for large data sets as its average and worst-case time complexity is quite high."
   ]
  },
  {
   "cell_type": "code",
   "execution_count": 2,
   "metadata": {},
   "outputs": [
    {
     "name": "stdout",
     "output_type": "stream",
     "text": [
      "[11, 12, 22, 25, 64]\n"
     ]
    }
   ],
   "source": [
    "A = [64, 25, 12, 22, 11]\n",
    "\n",
    "for i in range(len(A)):\n",
    "    # Last i elements are already in place\n",
    "    for j in range(len(A)-i-1):\n",
    "        if A[j]>A[j+1]:\n",
    "            A[j], A[j+1] = A[j+1], A[j]\n",
    "print(A)            "
   ]
  },
  {
   "cell_type": "markdown",
   "metadata": {},
   "source": [
    "**Time Complexity**\n",
    "<br>\n",
    "Best Case: Sigma(N)\n",
    "<br>\n",
    "Average Case: Phi (N^2)\n",
    "<br>\n",
    "Worst Case: O(N^2)"
   ]
  }
 ],
 "metadata": {
  "interpreter": {
   "hash": "2172f4872d15f4d8f5c69b10c374236444c9f456784ee552442a7c009bdba22f"
  },
  "kernelspec": {
   "display_name": "Python 3.8.12 ('tensorflow')",
   "language": "python",
   "name": "python3"
  },
  "language_info": {
   "codemirror_mode": {
    "name": "ipython",
    "version": 3
   },
   "file_extension": ".py",
   "mimetype": "text/x-python",
   "name": "python",
   "nbconvert_exporter": "python",
   "pygments_lexer": "ipython3",
   "version": "3.8.12"
  },
  "orig_nbformat": 4
 },
 "nbformat": 4,
 "nbformat_minor": 2
}
