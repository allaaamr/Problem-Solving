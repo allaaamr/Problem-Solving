{
 "cells": [
  {
   "cell_type": "markdown",
   "metadata": {},
   "source": [
    "The algorithm maintains two subarrays in a given array.\n",
    "\n",
    "The subarray which already sorted. \n",
    "The remaining subarray was unsorted.\n",
    "In every iteration of the selection sort, the minimum element (considering ascending order) from the unsorted subarray is picked and moved to the beginning of the sorted subarray. \n",
    "\n",
    "After every iteration sorted subarray size increase by one and the unsorted subarray size decrease by one."
   ]
  },
  {
   "cell_type": "markdown",
   "metadata": {},
   "source": [
    "<br>"
   ]
  },
  {
   "cell_type": "markdown",
   "metadata": {},
   "source": [
    "Lets consider the following array as an example: arr[] = {64, 25, 12, 22, 11}\n",
    "\n",
    "First pass:\n",
    "\n",
    "For the first position in the sorted array, the whole array is traversed from index 0 to 4 sequentially. The first position where 64 is stored presently, after traversing whole array it is clear that 11 is the lowest value.\n",
    "\n",
    "   64   \t   25   \t   12   \t   22   \t   11   \n",
    "\n",
    "Thus, replace 64 with 11. After one iteration 11, which happens to be the least value in the array, tends to appear in the first position of the sorted list.\n",
    "   11   \t   25   \t   12   \t   22   \t   64   \n",
    "\n",
    "\n",
    "Second Pass:\n",
    "\n",
    "For the second position, where 25 is present, again traverse the rest of the array in a sequential manner.\n",
    "   11   \t   25   \t   12   \t   22   \t   64   \n",
    "After traversing, we found that 12 is the second lowest value in the array and it should appear at the second place in the array, thus swap these values.\n",
    "   11   \t   12   \t   25   \t   22   \t   64   \n",
    "\n",
    "-- geeks for geeks"
   ]
  },
  {
   "cell_type": "code",
   "execution_count": 5,
   "metadata": {},
   "outputs": [
    {
     "name": "stdout",
     "output_type": "stream",
     "text": [
      "Sorted array [11, 12, 22, 25, 64]\n"
     ]
    }
   ],
   "source": [
    "import sys\n",
    "A = [64, 25, 12, 22, 11]\n",
    "\n",
    "for i in range(len(A)):\n",
    "\n",
    "    min = i\n",
    "    for j in range(i+1, len(A)):\n",
    "        if(A[min]> A[j]):\n",
    "            min =j\n",
    "    #swap\n",
    "    A[i], A[min] = A[min], A[i]  \n",
    "\n",
    "print (\"Sorted array\", A)"
   ]
  },
  {
   "cell_type": "markdown",
   "metadata": {},
   "source": [
    "**Time Complexity**\n",
    "<br>\n",
    "Best Case: Sigma(N^2)\n",
    "<br>\n",
    "Average Case: Phi (N^2)\n",
    "<br>\n",
    "Worst Case: O(N^2)"
   ]
  }
 ],
 "metadata": {
  "interpreter": {
   "hash": "2172f4872d15f4d8f5c69b10c374236444c9f456784ee552442a7c009bdba22f"
  },
  "kernelspec": {
   "display_name": "Python 3.8.12 ('tensorflow')",
   "language": "python",
   "name": "python3"
  },
  "language_info": {
   "codemirror_mode": {
    "name": "ipython",
    "version": 3
   },
   "file_extension": ".py",
   "mimetype": "text/x-python",
   "name": "python",
   "nbconvert_exporter": "python",
   "pygments_lexer": "ipython3",
   "version": "3.8.12"
  },
  "orig_nbformat": 4
 },
 "nbformat": 4,
 "nbformat_minor": 2
}
